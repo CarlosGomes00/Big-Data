{
 "cells": [
  {
   "cell_type": "markdown",
   "metadata": {},
   "source": [
    "# Motifs Probabilisticos\n",
    "\n",
    "\n"
   ]
  },
  {
   "cell_type": "markdown",
   "metadata": {},
   "source": [
    "Os **motifs** probabilísticos em Python referem-se a padrões ou sequências de eventos que ocorrem com uma certa probabilidade num conjunto de dados. \n",
    "\n",
    "Em bioinformática, por exemplo, os **motifs** podem representar padrões de nucleótidos em sequências de ADN, podendo também ser utilizados para encontrar regiões conservadas em sequências de ADN ou RNA.\n",
    "\n",
    "As funções, **PWM** e **PSSM**, são ferramentas essenciais na análise de dados genómicos, na identificação de elementos regulatórios importantes nas sequências do ADN e na identificação de **motifs** conservados em regiões regulatórias do ADN. "
   ]
  },
  {
   "cell_type": "markdown",
   "metadata": {},
   "source": [
    "> ### Função PWM\n",
    "\n",
    "A **função PWM** (Position Weight Matrix) é uma técnica amplamente utilizada na bioinformática para modelar padrões de consenso em sequências biológicas, como DNA ou proteínas. \n",
    "\n",
    "Consiste numa matriz que representa a frequência relativa de cada base em cada posição ao longo de um conjunto de sequências alinhadas.\n",
    "\n",
    "\n"
   ]
  },
  {
   "cell_type": "markdown",
   "metadata": {},
   "source": [
    "Em primeiro lugar, procedeu-se à instalação da biblioteca **tabulate** que permite a utilização de um conjunto de ferramentas de forma a ter um output mais organizado.\n"
   ]
  },
  {
   "cell_type": "code",
   "execution_count": null,
   "metadata": {},
   "outputs": [],
   "source": [
    "pip install tabulate"
   ]
  },
  {
   "cell_type": "code",
   "execution_count": null,
   "metadata": {},
   "outputs": [],
   "source": [
    "'''\n",
    "O *import* do módulo tabulate irá permitir a utilização das funções e classes fornecidas pelo *tabulate* para formatar e exibir dados tabulares\n",
    "'''\n",
    "from tabulate import tabulate\n",
    "\n",
    "seqs = ['TGACTATACGTATGGTAGAT', 'ATCGTATACGTAGGTAGAC', 'TAGCTAGTCGTATGGTAGAT']\n",
    "pseudo = 0\n",
    "\n",
    "def pwm(seqs: list[str], pseudo: float = 0) -> list[dict[str, float]]:\n",
    "  alfabeto = 'ACGT'\n",
    "\n",
    "  \"\"\"\n",
    "  Calcula a matriz PWM (Matriz de Peso e Posição) para as sequências fornecidas\n",
    "\n",
    "  Parâmetros\n",
    "  -------------\n",
    "  seqs : list[str]\n",
    "      Recebe uma lista de strings que representam as sequências\n",
    "\n",
    "  pseudo : float = 0\n",
    "      Recebe um valor opcional, pseudo, que em caso de omissão é = 0\n",
    "\n",
    "\n",
    "  Retorna\n",
    "  -------------\n",
    "  pwm_matrix : list[dict[str, float]]\n",
    "      Retorna uma *lista de dicionários*, onde cada *dicionário* terá uma chave no formato de *string*, e um valor no formato de *float*\n",
    "\n",
    "  \"\"\"\n",
    "\n",
    "  for seq in seqs:\n",
    "    for idx, b in enumerate(seq):\n",
    "      assert b in alfabeto, f'Caracter {b} na posição {idx} da sequência {seq} inválido!'\n",
    "\n",
    "  pwm_matrix = [{b: (pos.count(b) + pseudo) / (len(seqs) + len(alfabeto) * pseudo)\n",
    "    for b in alfabeto}\n",
    "      for pos in zip(*seqs)]\n",
    "\n",
    "  return pwm_matrix\n",
    "\n",
    "resultado = pwm(seqs, pseudo)  # Associação do resultado da função a uma variável de forma a ser mais fácil imprimir o resultado\n",
    "\n",
    "# Impressão da matriz formatada com o módulo tabulate\n",
    "headers = [\"Base\"] + [f\"Posição {i+1}\" for i in range(len(seqs[0]))]\n",
    "table = [[base] + [round(resultado[i][base], 3) for i in range(len(resultado))] for base in \"ACGT\"]\n",
    "print(tabulate(table, headers))"
   ]
  },
  {
   "cell_type": "code",
   "execution_count": 30,
   "metadata": {},
   "outputs": [],
   "source": [
    "import unittest\n",
    "\n",
    "class TestBioInf(unittest.TestCase):\n",
    "\n",
    "    def test_pwm(self):\n",
    "        # Teste para sequências vazias\n",
    "        self.assertEqual(pwm([]), [])\n",
    "        \n",
    "        # Teste para pseudocount zero\n",
    "        self.assertEqual(pwm(['ATA'], pseudo=0), [{'A': 1.0, 'T': 0.0, 'C': 0.0, 'G': 0.0}])\n",
    "\n",
    "        # Teste para pseudocount diferente de zero\n",
    "        self.assertEqual(pwm(['ATA'], pseudo=1), [{'A': 0.75, 'T': 0.25, 'C': 0.0, 'G': 0.0}])"
   ]
  },
  {
   "cell_type": "code",
   "execution_count": null,
   "metadata": {},
   "outputs": [],
   "source": [
    "def prob_seq(sequence, resultado):\n",
    "    \"\"\"\n",
    "    Calcula a probabilidade de uma sequência utilizando como base a função PWM\n",
    "\n",
    "    Parâmetros\n",
    "    -------------\n",
    "    sequence : str \n",
    "        A sequência de DNA \n",
    "     \n",
    "    resultado : list[dict[str, float]] \n",
    "        Variável que contém o resultado da função PWM, onde cada dicionário representa as probabilidades para cada base em uma posição\n",
    "\n",
    "    Retorna\n",
    "    -------------\n",
    "    probabilidade : float \n",
    "        A probabilidade da sequência com base na PWM\n",
    "    \n",
    "    \"\"\"\n",
    "    \n",
    "    probabilidade = 1.0\n",
    "\n",
    "    for position, base in enumerate(sequence):\n",
    "        if base in resultado[position]:\n",
    "            probabilidade *= resultado[position][base]\n",
    "        else:\n",
    "            probabilidade *= 0.01  # Atribui uma probabilidade mínima de 0.01 para bases ausentes.\n",
    "\n",
    "    return probabilidade\n",
    "\n",
    "seq = 'ATA'\n",
    "probabilidade = prob_seq(seq, resultado)\n",
    "\n",
    "print(f\"A probabilidade da sequência '{seq}' é de: \\n{probabilidade}\")"
   ]
  },
  {
   "cell_type": "code",
   "execution_count": 40,
   "metadata": {},
   "outputs": [],
   "source": [
    "import unittest\n",
    "\n",
    "class TestBioInf(unittest.TestCase):\n",
    "\n",
    "    def test_prob_seq(self):\n",
    "        # Teste para pseudocount zero\n",
    "        self.assertEqual(prob_seq('ATA', resultado), 0.03)\n",
    "\n",
    "        # Teste para pseudocount diferente de zero\n",
    "        self.assertEqual(prob_seq('ATA', resultado), 0.03)"
   ]
  },
  {
   "cell_type": "code",
   "execution_count": null,
   "metadata": {},
   "outputs": [],
   "source": [
    "import re\n",
    "\n",
    "def seq_provavel(seq, resultado):\n",
    "  \n",
    "  '''\n",
    "  Calcula qual a Sequência mais provável\n",
    "\n",
    "  Parâmetros\n",
    "  -------------\n",
    "  seq : str\n",
    "    A sequência de DNA\n",
    "  \n",
    "  resultado : list[dict[str, float]] \n",
    "    Variável que contém o resultado da função PWM, onde cada dicionário representa as probabilidades para cada base em uma posição\n",
    "  \n",
    "  \n",
    "  Retorna\n",
    "  -------------\n",
    "  str \n",
    "    A Sequência mais provável dentro da Sequência dada\n",
    "  '''\n",
    "  \n",
    "  dicionario = {}\n",
    "  for subset in re.findall('(?=(....))', seq):\n",
    "    dicionario[subset] = (prob_seq(subset, resultado))\n",
    "  return max(dicionario, key=dicionario.get)\n",
    "\n",
    "\n",
    "seq = \"CATTGT\"\n",
    "mais_provavel = seq_provavel(seq, resultado)\n",
    "\n",
    "print(f'A Sequência mais provável, dentro da Sequência {seq}, é {mais_provavel}.')"
   ]
  },
  {
   "cell_type": "code",
   "execution_count": 39,
   "metadata": {},
   "outputs": [],
   "source": [
    "import unittest\n",
    "\n",
    "class TestBioInf(unittest.TestCase):\n",
    "\n",
    "        def test_seq_provavel(self):\n",
    "                # Teste para uma sequência específica\n",
    "                self.assertEqual(seq_provavel(\"CATTGT\", resultado), \"CATT\")\n",
    "\n",
    "                # Teste para outra sequência\n",
    "                self.assertEqual(seq_provavel(\"ATCGATCG\", resultado), \"ATCG\")\n",
    "\n",
    "                # Teste para uma sequência ausente das posições da PWM\n",
    "                self.assertEqual(seq_provavel(\"GGGGGGGG\", resultado), \"GGGG\")"
   ]
  },
  {
   "cell_type": "markdown",
   "metadata": {},
   "source": [
    ">### Função PSSM"
   ]
  },
  {
   "cell_type": "markdown",
   "metadata": {},
   "source": [
    "A **função PSSM** (Position-Specific Scoring Matrix) é uma extensão da PWM. \n",
    "\n",
    "Enquanto a PWM representa a frequência relativa das bases, a PSSM atribui uma pontuação para cada base em cada posição, levando em consideração a probabilidade logarítmica da ocorrência de uma base em relação a uma distribuição de probabilidade de fundo."
   ]
  },
  {
   "cell_type": "code",
   "execution_count": null,
   "metadata": {},
   "outputs": [],
   "source": [
    "import math\n",
    "\n",
    "seqs = ['TGACTATACGTATGGTAGAT', 'ATCGTATACGTAGGTAGAC', 'TAGCTAGTCGTATGGTAGAT']\n",
    "\n",
    "def pssm(seqs, pseudo = 1):\n",
    "\n",
    "  \"\"\"\n",
    "  Calcula a Matriz de Pontuação de Posição Específica (PSSM) para um conjunto de sequências de DNA.\n",
    "\n",
    "  Parâmetros\n",
    "  -------------\n",
    "  seqs : list[str]\n",
    "    Lista de sequências de DNA.\n",
    "\n",
    "  pseudo : float \n",
    "    Valor de pseudocount a ser adicionado para evitar problemas com probabilidades zero.\n",
    "\n",
    "\n",
    "  Retorna\n",
    "  -------------\n",
    "  lista : list[dict[str, float]]\n",
    "    Uma lista de dicionários que representa a PSSM.\n",
    "  \"\"\"\n",
    "\n",
    "  bases = 'ATCG'\n",
    "  lista = []\n",
    "\n",
    "  for pos in list(zip(*seqs)):\n",
    "    dicionario = {}\n",
    "    for b in bases:\n",
    "      # Fórmula da PSSM: log2((contagem da base + pseudocount) / (total de sequências + total de bases * pseudocount)) / 0.25\n",
    "      dicionario[b] = math.log2((pos.count(b) + pseudo) / (len(seqs) + len(bases)*pseudo)) / 0.25\n",
    "\n",
    "    lista.append(dicionario)\n",
    "  return lista\n",
    "\n",
    "matriz_pssm = pssm(seqs, pseudo = 1)\n",
    "\n",
    "# O Table e o Headers já foram definidos para a função PWM\n",
    "\n",
    "headers = [\"Base\"] + [f\"Posição {i+1}\" for i in range(len(seqs[0]))]\n",
    "table = [[base] + [round(matriz_pssm[i][base], 3) for i in range(len(matriz_pssm))] for base in \"ACGT\"]\n",
    "print(tabulate(table, headers))"
   ]
  },
  {
   "cell_type": "code",
   "execution_count": 43,
   "metadata": {},
   "outputs": [],
   "source": [
    "import unittest\n",
    "\n",
    "class TestBioInf(unittest.TestCase):\n",
    "\n",
    "    def test_pssm(self):\n",
    "        # Teste para sequências vazias\n",
    "        self.assertEqual(pssm([]), [])\n",
    "\n",
    "        # Teste para pseudocount zero\n",
    "        self.assertEqual(pssm(['ATA'], pseudo=0), [{'A': 0.0, 'T': 0.0, 'C': 0.0, 'G': 0.0}])\n",
    "\n",
    "        # Teste para pseudocount diferente de zero\n",
    "        self.assertEqual(pssm(['ATA'], pseudo=1), [{'A': -0.415, 'T': 0.415, 'C': 0.415, 'G': -0.415}])"
   ]
  }
 ],
 "metadata": {
  "kernelspec": {
   "display_name": "base",
   "language": "python",
   "name": "python3"
  },
  "language_info": {
   "codemirror_mode": {
    "name": "ipython",
    "version": 3
   },
   "file_extension": ".py",
   "mimetype": "text/x-python",
   "name": "python",
   "nbconvert_exporter": "python",
   "pygments_lexer": "ipython3",
   "version": "3.11.5"
  }
 },
 "nbformat": 4,
 "nbformat_minor": 2
}
